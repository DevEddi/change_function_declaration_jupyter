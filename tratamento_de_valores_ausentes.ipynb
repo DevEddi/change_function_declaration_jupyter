{
 "cells": [
  {
   "cell_type": "code",
   "execution_count": 14,
   "id": "b47ba62c",
   "metadata": {
    "pycharm": {
     "name": "#%%\n"
    }
   },
   "outputs": [],
   "source": [
    "import pandas as pd"
   ]
  },
  {
   "cell_type": "code",
   "execution_count": 15,
   "id": "ba661045",
   "metadata": {
    "pycharm": {
     "name": "#%%\n"
    }
   },
   "outputs": [
    {
     "data": {
      "text/html": [
       "<div>\n",
       "<style scoped>\n",
       "    .dataframe tbody tr th:only-of-type {\n",
       "        vertical-align: middle;\n",
       "    }\n",
       "\n",
       "    .dataframe tbody tr th {\n",
       "        vertical-align: top;\n",
       "    }\n",
       "\n",
       "    .dataframe thead th {\n",
       "        text-align: right;\n",
       "    }\n",
       "</style>\n",
       "<table border=\"1\" class=\"dataframe\">\n",
       "  <thead>\n",
       "    <tr style=\"text-align: right;\">\n",
       "      <th></th>\n",
       "      <th>BI-RADS</th>\n",
       "      <th>Idade</th>\n",
       "      <th>Forma</th>\n",
       "      <th>Margem</th>\n",
       "      <th>Densidade</th>\n",
       "      <th>Severidade</th>\n",
       "    </tr>\n",
       "  </thead>\n",
       "  <tbody>\n",
       "    <tr>\n",
       "      <th>0</th>\n",
       "      <td>5.0</td>\n",
       "      <td>67.0</td>\n",
       "      <td>3.0</td>\n",
       "      <td>5.0</td>\n",
       "      <td>3.0</td>\n",
       "      <td>1</td>\n",
       "    </tr>\n",
       "    <tr>\n",
       "      <th>1</th>\n",
       "      <td>4.0</td>\n",
       "      <td>43.0</td>\n",
       "      <td>1.0</td>\n",
       "      <td>1.0</td>\n",
       "      <td>NaN</td>\n",
       "      <td>1</td>\n",
       "    </tr>\n",
       "    <tr>\n",
       "      <th>2</th>\n",
       "      <td>5.0</td>\n",
       "      <td>58.0</td>\n",
       "      <td>4.0</td>\n",
       "      <td>5.0</td>\n",
       "      <td>3.0</td>\n",
       "      <td>1</td>\n",
       "    </tr>\n",
       "    <tr>\n",
       "      <th>3</th>\n",
       "      <td>4.0</td>\n",
       "      <td>28.0</td>\n",
       "      <td>1.0</td>\n",
       "      <td>1.0</td>\n",
       "      <td>3.0</td>\n",
       "      <td>0</td>\n",
       "    </tr>\n",
       "    <tr>\n",
       "      <th>4</th>\n",
       "      <td>5.0</td>\n",
       "      <td>74.0</td>\n",
       "      <td>1.0</td>\n",
       "      <td>5.0</td>\n",
       "      <td>NaN</td>\n",
       "      <td>1</td>\n",
       "    </tr>\n",
       "  </tbody>\n",
       "</table>\n",
       "</div>"
      ],
      "text/plain": [
       "   BI-RADS  Idade  Forma   Margem   Densidade  Severidade\n",
       "0      5.0   67.0    3.0      5.0         3.0           1\n",
       "1      4.0   43.0    1.0      1.0         NaN           1\n",
       "2      5.0   58.0    4.0      5.0         3.0           1\n",
       "3      4.0   28.0    1.0      1.0         3.0           0\n",
       "4      5.0   74.0    1.0      5.0         NaN           1"
      ]
     },
     "execution_count": 15,
     "metadata": {},
     "output_type": "execute_result"
    }
   ],
   "source": [
    "dataset = pd.read_csv('mamografia.csv')\n",
    "dataset.head()"
   ]
  },
  {
   "cell_type": "code",
   "execution_count": 16,
   "id": "0de4fc33",
   "metadata": {
    "pycharm": {
     "name": "#%%\n"
    },
    "scrolled": false
   },
   "outputs": [
    {
     "data": {
      "text/html": [
       "<div>\n",
       "<style scoped>\n",
       "    .dataframe tbody tr th:only-of-type {\n",
       "        vertical-align: middle;\n",
       "    }\n",
       "\n",
       "    .dataframe tbody tr th {\n",
       "        vertical-align: top;\n",
       "    }\n",
       "\n",
       "    .dataframe thead th {\n",
       "        text-align: right;\n",
       "    }\n",
       "</style>\n",
       "<table border=\"1\" class=\"dataframe\">\n",
       "  <thead>\n",
       "    <tr style=\"text-align: right;\">\n",
       "      <th></th>\n",
       "      <th>BI-RADS</th>\n",
       "      <th>Idade</th>\n",
       "      <th>Forma</th>\n",
       "      <th>Margem</th>\n",
       "      <th>Densidade</th>\n",
       "      <th>Severidade</th>\n",
       "    </tr>\n",
       "  </thead>\n",
       "  <tbody>\n",
       "    <tr>\n",
       "      <th>0</th>\n",
       "      <td>5.0</td>\n",
       "      <td>67.0</td>\n",
       "      <td>3.0</td>\n",
       "      <td>5.0</td>\n",
       "      <td>3.0</td>\n",
       "      <td>1</td>\n",
       "    </tr>\n",
       "    <tr>\n",
       "      <th>1</th>\n",
       "      <td>4.0</td>\n",
       "      <td>43.0</td>\n",
       "      <td>1.0</td>\n",
       "      <td>1.0</td>\n",
       "      <td>NaN</td>\n",
       "      <td>1</td>\n",
       "    </tr>\n",
       "    <tr>\n",
       "      <th>2</th>\n",
       "      <td>5.0</td>\n",
       "      <td>58.0</td>\n",
       "      <td>4.0</td>\n",
       "      <td>5.0</td>\n",
       "      <td>3.0</td>\n",
       "      <td>1</td>\n",
       "    </tr>\n",
       "    <tr>\n",
       "      <th>3</th>\n",
       "      <td>4.0</td>\n",
       "      <td>28.0</td>\n",
       "      <td>1.0</td>\n",
       "      <td>1.0</td>\n",
       "      <td>3.0</td>\n",
       "      <td>0</td>\n",
       "    </tr>\n",
       "    <tr>\n",
       "      <th>4</th>\n",
       "      <td>5.0</td>\n",
       "      <td>74.0</td>\n",
       "      <td>1.0</td>\n",
       "      <td>5.0</td>\n",
       "      <td>NaN</td>\n",
       "      <td>1</td>\n",
       "    </tr>\n",
       "  </tbody>\n",
       "</table>\n",
       "</div>"
      ],
      "text/plain": [
       "   BI-RADS  Idade  Forma   Margem   Densidade  Severidade\n",
       "0      5.0   67.0    3.0      5.0         3.0           1\n",
       "1      4.0   43.0    1.0      1.0         NaN           1\n",
       "2      5.0   58.0    4.0      5.0         3.0           1\n",
       "3      4.0   28.0    1.0      1.0         3.0           0\n",
       "4      5.0   74.0    1.0      5.0         NaN           1"
      ]
     },
     "execution_count": 16,
     "metadata": {},
     "output_type": "execute_result"
    }
   ],
   "source": [
    "mamografia = dataset\n",
    "mamografia.head()"
   ]
  },
  {
   "cell_type": "code",
   "execution_count": 17,
   "id": "e2556e40",
   "metadata": {
    "pycharm": {
     "name": "#%%\n"
    },
    "scrolled": true
   },
   "outputs": [
    {
     "data": {
      "text/plain": [
       "BI-RADS       float64\n",
       "Idade         float64\n",
       "Forma         float64\n",
       " Margem       float64\n",
       " Densidade    float64\n",
       "Severidade      int64\n",
       "dtype: object"
      ]
     },
     "execution_count": 17,
     "metadata": {},
     "output_type": "execute_result"
    }
   ],
   "source": [
    "mamografia.dtypes"
   ]
  },
  {
   "cell_type": "markdown",
   "id": "0a1a6558",
   "metadata": {
    "pycharm": {
     "name": "#%% md\n"
    }
   },
   "source": [
    "# Análise de Valores Ausentes"
   ]
  },
  {
   "cell_type": "code",
   "execution_count": 18,
   "id": "3b5e20e8",
   "metadata": {
    "pycharm": {
     "name": "#%%\n"
    },
    "scrolled": false
   },
   "outputs": [
    {
     "name": "stdout",
     "output_type": "stream",
     "text": [
      " Valores ausentes  \n",
      "\n",
      "Valores Benigno: \n",
      "BI-RADS        1\n",
      "Idade          0\n",
      "Forma         19\n",
      " Margem       37\n",
      " Densidade    54\n",
      "Severidade     0\n",
      "dtype: int64\n",
      "\n",
      "Valores Maligno: \n",
      "BI-RADS        1\n",
      "Idade          5\n",
      "Forma         12\n",
      " Margem       11\n",
      " Densidade    22\n",
      "Severidade     0\n",
      "dtype: int64\n",
      "\n"
     ]
    }
   ],
   "source": [
    "benigno = mamografia[mamografia['Severidade'] == 0].isnull().sum()\n",
    "print(' Valores ausentes  ')\n",
    "print()\n",
    "print('Valores Benigno: ')\n",
    "print(benigno)\n",
    "print()\n",
    "maligno = mamografia[mamografia['Severidade'] == 1].isnull().sum()\n",
    "print('Valores Maligno: ')\n",
    "print(maligno)\n",
    "print()"
   ]
  },
  {
   "cell_type": "markdown",
   "id": "86bc7769",
   "metadata": {
    "pycharm": {
     "name": "#%% md\n"
    }
   },
   "source": [
    "## Tratamento dos Valores ausentes"
   ]
  },
  {
   "cell_type": "code",
   "execution_count": 19,
   "id": "2ef5c77c",
   "metadata": {
    "pycharm": {
     "name": "#%%\n"
    },
    "scrolled": true
   },
   "outputs": [
    {
     "data": {
      "text/plain": [
       "49.713178294573645"
      ]
     },
     "execution_count": 19,
     "metadata": {},
     "output_type": "execute_result"
    }
   ],
   "source": [
    "mamografia.loc[mamografia['Severidade'] == 0, 'Idade'].mean()"
   ]
  },
  {
   "cell_type": "code",
   "execution_count": 20,
   "id": "698650d2",
   "metadata": {
    "pycharm": {
     "name": "#%%\n"
    },
    "scrolled": true
   },
   "outputs": [
    {
     "data": {
      "text/plain": [
       "62.25909090909091"
      ]
     },
     "execution_count": 20,
     "metadata": {},
     "output_type": "execute_result"
    }
   ],
   "source": [
    "mamografia.loc[mamografia['Severidade'] == 1, 'Idade'].mean()"
   ]
  },
  {
   "cell_type": "code",
   "execution_count": 21,
   "id": "68428358",
   "metadata": {
    "pycharm": {
     "name": "#%%\n"
    },
    "scrolled": true
   },
   "outputs": [
    {
     "data": {
      "text/html": [
       "<div>\n",
       "<style scoped>\n",
       "    .dataframe tbody tr th:only-of-type {\n",
       "        vertical-align: middle;\n",
       "    }\n",
       "\n",
       "    .dataframe tbody tr th {\n",
       "        vertical-align: top;\n",
       "    }\n",
       "\n",
       "    .dataframe thead th {\n",
       "        text-align: right;\n",
       "    }\n",
       "</style>\n",
       "<table border=\"1\" class=\"dataframe\">\n",
       "  <thead>\n",
       "    <tr style=\"text-align: right;\">\n",
       "      <th></th>\n",
       "      <th>BI-RADS</th>\n",
       "      <th>Idade</th>\n",
       "      <th>Forma</th>\n",
       "      <th>Margem</th>\n",
       "      <th>Densidade</th>\n",
       "      <th>Severidade</th>\n",
       "    </tr>\n",
       "  </thead>\n",
       "  <tbody>\n",
       "    <tr>\n",
       "      <th>0</th>\n",
       "      <td>5.0</td>\n",
       "      <td>67.0</td>\n",
       "      <td>3.0</td>\n",
       "      <td>5.0</td>\n",
       "      <td>3.0</td>\n",
       "      <td>1</td>\n",
       "    </tr>\n",
       "    <tr>\n",
       "      <th>1</th>\n",
       "      <td>4.0</td>\n",
       "      <td>43.0</td>\n",
       "      <td>1.0</td>\n",
       "      <td>1.0</td>\n",
       "      <td>NaN</td>\n",
       "      <td>1</td>\n",
       "    </tr>\n",
       "    <tr>\n",
       "      <th>2</th>\n",
       "      <td>5.0</td>\n",
       "      <td>58.0</td>\n",
       "      <td>4.0</td>\n",
       "      <td>5.0</td>\n",
       "      <td>3.0</td>\n",
       "      <td>1</td>\n",
       "    </tr>\n",
       "    <tr>\n",
       "      <th>3</th>\n",
       "      <td>4.0</td>\n",
       "      <td>28.0</td>\n",
       "      <td>1.0</td>\n",
       "      <td>1.0</td>\n",
       "      <td>3.0</td>\n",
       "      <td>0</td>\n",
       "    </tr>\n",
       "    <tr>\n",
       "      <th>4</th>\n",
       "      <td>5.0</td>\n",
       "      <td>74.0</td>\n",
       "      <td>1.0</td>\n",
       "      <td>5.0</td>\n",
       "      <td>NaN</td>\n",
       "      <td>1</td>\n",
       "    </tr>\n",
       "  </tbody>\n",
       "</table>\n",
       "</div>"
      ],
      "text/plain": [
       "   BI-RADS  Idade  Forma   Margem   Densidade  Severidade\n",
       "0      5.0   67.0    3.0      5.0         3.0           1\n",
       "1      4.0   43.0    1.0      1.0         NaN           1\n",
       "2      5.0   58.0    4.0      5.0         3.0           1\n",
       "3      4.0   28.0    1.0      1.0         3.0           0\n",
       "4      5.0   74.0    1.0      5.0         NaN           1"
      ]
     },
     "execution_count": 21,
     "metadata": {},
     "output_type": "execute_result"
    }
   ],
   "source": [
    "mamografia.head()"
   ]
  },
  {
   "cell_type": "code",
   "execution_count": null,
   "outputs": [],
   "source": [
    "def verifica_moda_da_severidade(lista):\n",
    "    if mamografia[(mamografia['Severidade'] == 0)][lista].mode()[0]:\n",
    "        moda_benigno = mamografia[(mamografia['Severidade'] == 0)][lista].mode()[0]\n",
    "        mamografia.loc[(mamografia[lista].isnull())&(mamografia['Severidade'] == 0), lista] = moda_benigno\n",
    "    elif mamografia[(mamografia['Severidade'] == 1)][lista].mode()[0]:\n",
    "        moda_maligno = mamografia[(mamografia['Severidade'] == 1)][lista].mode()[0]\n",
    "        mamografia.loc[(mamografia[lista].isnull())&(mamografia['Severidade'] == 1), lista] = moda_maligno\n",
    "    else:\n",
    "        print('Erro')\n",
    "\n",
    "def verifica_media_da_severidade(lista):\n",
    "    if mamografia[(mamografia['Severidade'] == 0)][lista].mean():\n",
    "        media_benigno = mamografia[(mamografia['Severidade'] == 0)][lista].mean()\n",
    "        mamografia.loc[(mamografia[lista].isnull())&(mamografia['Severidade'] == 0), lista] = media_benigno\n",
    "    elif mamografia[(mamografia['Severidade'] == 1)][lista].mean():\n",
    "        media_maligno = mamografia[(mamografia['Severidade'] == 1)][lista].mean()\n",
    "        mamografia.loc[(mamografia[lista].isnull())&(mamografia['Severidade'] == 1), lista] = media_maligno\n",
    "    else:\n",
    "        print('Erro')"
   ],
   "metadata": {
    "collapsed": false,
    "pycharm": {
     "name": "#%%\n"
    }
   }
  },
  {
   "cell_type": "code",
   "execution_count": null,
   "outputs": [],
   "source": [
    "def tratar_ausentes(lista_col):\n",
    "    for lista in lista_col:\n",
    "        if lista != 'Idade':\n",
    "            verifica_moda_da_severidade(lista)\n",
    "        else:\n",
    "            verifica_media_da_severidade(lista)\n"
   ],
   "metadata": {
    "collapsed": false,
    "pycharm": {
     "name": "#%%\n"
    }
   }
  },
  {
   "cell_type": "code",
   "execution_count": 43,
   "id": "0d6e2e99",
   "metadata": {
    "pycharm": {
     "name": "#%%\n"
    }
   },
   "outputs": [],
   "source": [
    "def tratar_ausentes(lista_col):\n",
    "    for lista in lista_col:\n",
    "        if lista != 'Idade':\n",
    "            verifica_moda_da_severidade(lista)\n",
    "        else:\n",
    "            verifica_media_da_severidade(lista)\n"
   ]
  },
  {
   "cell_type": "code",
   "execution_count": 44,
   "id": "9d138e74",
   "metadata": {
    "pycharm": {
     "name": "#%%\n"
    }
   },
   "outputs": [
    {
     "data": {
      "text/plain": [
       "Index(['BI-RADS', 'Idade', 'Forma', ' Margem', ' Densidade', 'Severidade'], dtype='object')"
      ]
     },
     "execution_count": 44,
     "metadata": {},
     "output_type": "execute_result"
    }
   ],
   "source": [
    "mamografia.columns"
   ]
  },
  {
   "cell_type": "code",
   "execution_count": 45,
   "id": "57f48423",
   "metadata": {
    "pycharm": {
     "name": "#%%\n"
    },
    "scrolled": true
   },
   "outputs": [],
   "source": [
    "tratar_ausentes(mamografia.columns)"
   ]
  },
  {
   "cell_type": "code",
   "execution_count": 46,
   "id": "3d1aeb26",
   "metadata": {
    "pycharm": {
     "name": "#%%\n"
    },
    "scrolled": true
   },
   "outputs": [
    {
     "data": {
      "text/plain": [
       "BI-RADS       0\n",
       "Idade         0\n",
       "Forma         0\n",
       " Margem       0\n",
       " Densidade    0\n",
       "Severidade    0\n",
       "dtype: int64"
      ]
     },
     "execution_count": 46,
     "metadata": {},
     "output_type": "execute_result"
    }
   ],
   "source": [
    "mamografia.isnull().sum()"
   ]
  }
 ],
 "metadata": {
  "kernelspec": {
   "display_name": "Python 3 (ipykernel)",
   "language": "python",
   "name": "python3"
  },
  "language_info": {
   "codemirror_mode": {
    "name": "ipython",
    "version": 3
   },
   "file_extension": ".py",
   "mimetype": "text/x-python",
   "name": "python",
   "nbconvert_exporter": "python",
   "pygments_lexer": "ipython3",
   "version": "3.10.4"
  }
 },
 "nbformat": 4,
 "nbformat_minor": 5
}